{
 "cells": [
  {
   "cell_type": "code",
   "execution_count": 108,
   "metadata": {
    "collapsed": false
   },
   "outputs": [],
   "source": [
    "import re\n",
    "gene_list2 = [{'patient': 'Bob' ,'gene1':'1', 'time till death1':'5' , \n",
    "               'variants1': 'zz:oops:gcta:- 18:3232232:t-a-t:g 18:3342:t-a-t:c', \n",
    "              'gene2':'2', 'time till death2':'7',\n",
    "               'variants2': '22:394343:gcta:- 18:3232232:t-g-t:-- 18:334342:t-a-t:c', 'comment':'blah'}, \n",
    "             {'patient': 'Steve' ,'gene1':'4','time till death1':'3' ,\n",
    "              'variants1': 'xy:s:zzz:- 18:12:***:. 18:32:t-a-t:.', \n",
    "              'gene2':'3', 'time till death2':'9', \n",
    "              'variants2': '22:294343:gcta:- 25:explosion:t-a-t:23 12:334342:t-a-t:a', 'comment':'goat'},\n",
    "              {'patient': 'Jenna' ,'gene1':'7','time till death1':'3' ,\n",
    "              'variants1': 'n/a', \n",
    "              'gene2':'3', 'time till death2':'9', \n",
    "              'variants2': 'sx:294343:gcta:- 25:893:t-a-t:a 12:334342:t-a-t:a', 'comment':'Not goat'},\n",
    "              {'patient': 'Samuele' ,'gene1':'2','time till death1':'11' ,\n",
    "              'variants1': 'n/a', \n",
    "              'gene2':'3', 'time till death2':'9', \n",
    "              'variants2': 'chr72:117227792TG>A', 'comment':'Not goat'},\n",
    "             {'patient': 'Matteo' ,'gene1':'2','time till death1':'11' ,\n",
    "              'variants1': 'n/a', \n",
    "              'gene2':'3', 'time till death2':'9', \n",
    "              'variants2': 'OOPSOOPS', 'comment':'Not goat'},\n",
    "             {'patient': 'Caio' ,'gene1':'2','time till death1':'11' ,\n",
    "              'variants1': '*', \n",
    "              'gene2':'3', 'time till death2':'9', \n",
    "              'variants2': 'chr7:117227792>A', 'comment':'Not goat'}]"
   ]
  },
  {
   "cell_type": "code",
   "execution_count": 109,
   "metadata": {
    "collapsed": false
   },
   "outputs": [],
   "source": [
    "variants_list =[]\n",
    "disorder_list = [str(item+1) for item in range(14)]\n",
    "patient_key= [patient['patient'] for patient in gene_list2]\n",
    "for person in gene_list2:\n",
    "    temp_list =[]\n",
    "    for person_key in person.keys():\n",
    "        if person_key[-2:-1] =='s':\n",
    "            temp_list.append(person[person_key])\n",
    "    variants_list.append(temp_list)\n",
    "    "
   ]
  },
  {
   "cell_type": "code",
   "execution_count": 110,
   "metadata": {
    "collapsed": false
   },
   "outputs": [
    {
     "name": "stdout",
     "output_type": "stream",
     "text": [
      "['zz:oops:gcta:- 18:3232232:t-a-t:g 18:3342:t-a-t:c', '22:394343:gcta:- 18:3232232:t-g-t:-- 18:334342:t-a-t:c']\n",
      "['xy:s:zzz:- 18:12:***:. 18:32:t-a-t:.', '22:294343:gcta:- 25:explosion:t-a-t:23 12:334342:t-a-t:a']\n",
      "['n/a', 'sx:294343:gcta:- 25:893:t-a-t:a 12:334342:t-a-t:a']\n",
      "['n/a', 'chr72:117227792TG>A']\n",
      "['n/a', 'OOPSOOPS']\n",
      "['*', 'chr7:117227792>A']\n"
     ]
    }
   ],
   "source": [
    "for item in variants_list:\n",
    "    print (item)"
   ]
  },
  {
   "cell_type": "code",
   "execution_count": 111,
   "metadata": {
    "collapsed": false
   },
   "outputs": [
    {
     "name": "stdout",
     "output_type": "stream",
     "text": [
      "['Bob', 'Steve', 'Jenna', 'Samuele', 'Matteo', 'Caio']\n"
     ]
    }
   ],
   "source": [
    "print(patient_key)"
   ]
  },
  {
   "cell_type": "code",
   "execution_count": 112,
   "metadata": {
    "collapsed": false
   },
   "outputs": [
    {
     "name": "stdout",
     "output_type": "stream",
     "text": [
      "Chrom_failure for variant:  1 zz:oops:gcta:-\n",
      "Position failure for  patient: Bob disorder: 1 variant: zz:oops:gcta:-\n",
      "Position failure for  patient: Steve disorder: 1 variant: xy:s:zzz:-\n",
      "Ref failure patient: Steve disorder: 1 variant: xy:s:zzz:-\n",
      "Ref failure patient: Steve disorder: 1 variant: 18:12:***:.\n",
      "Chrom_failure, not valid for variant:  2 25:explosion:t-a-t:23\n",
      "Position failure for  patient: Steve disorder: 2 variant: 25:explosion:t-a-t:23\n",
      "Alt-failure Steve disorder: 2 variant: 25:explosion:t-a-t:23\n",
      "Not App Jenna\n",
      "Chrom_failure for variant:  2 sx:294343:gcta:-\n",
      "Chrom_failure, not valid for variant:  2 25:893:t-a-t:a\n",
      "Not App Samuele\n",
      "HGVS Simp Samuele chr72\n",
      "Simple HGVS format dictates that chr\n",
      "Not App Matteo\n",
      "Error total, not in acceptable format Matteo OOPSOOPS\n",
      "Boom Caio\n",
      "HGVS Simp Caio chr7\n",
      "Missing CATG\n"
     ]
    }
   ],
   "source": [
    "chrom_condition =r\"\\d+|(xy)+\"\n",
    "chrom_condition_number =r\"\\d+\"\n",
    "pos_condition =r'\\d+'\n",
    "ref_condition =r'[gcat-]+' \n",
    "alt_condition = r'[gcat\\.-]+'\n",
    "\n",
    "cpra_format =r'^(\\s*\\S+:\\S+:\\S+:\\S+\\s*,?\\s*)+$'\n",
    "simp_hgvs_format = r'^(\\s*\\S+:\\S+\\s*>\\S+)+$'\n",
    "not_app_format= r'[na/]+'\n",
    "\n",
    "for patient_variant_data in variants_list:\n",
    "    for variant_sublist in patient_variant_data:\n",
    "        sing_variant_sublist = variant_sublist.split(\" \")\n",
    "        '''print ('variant:', \n",
    "               disorder_list[patient_variant_data.index(variant_sublist)] ,',Variant List:',\n",
    "               sing_variant_sublist,\n",
    "               patient_key[variants_list.index(patient_variant_data)])'''\n",
    "        for variant in sing_variant_sublist:\n",
    "            if (re.search(cpra_format, variant)):\n",
    "                variant_comp_list = variant.split(':')\n",
    "                #print(variant_comp_list, patient_key[variants_list.index(patient_variant_data)] )\n",
    "                if (re.search(chrom_condition, variant_comp_list[0], re.I)) ==None:\n",
    "                    print('Chrom_failure', 'for variant: ', disorder_list[patient_variant_data.index(variant_sublist)], variant)\n",
    "                if (re.search(chrom_condition_number, variant_comp_list[0], re.I)) and (int(variant_comp_list[0]) >22 or int(variant_comp_list[0]) <0):\n",
    "                    print('Chrom_failure, not valid', 'for variant: ', disorder_list[patient_variant_data.index(variant_sublist)], variant)\n",
    "                if (re.search(pos_condition, variant_comp_list[1])) ==None:\n",
    "                    print('Position failure for ', 'patient:', patient_key[variants_list.index(patient_variant_data)], \n",
    "                          'disorder:', disorder_list[patient_variant_data.index(variant_sublist)], 'variant:',variant)\n",
    "                if (re.search(ref_condition, variant_comp_list[2], re.I)) ==None:\n",
    "                    print('Ref failure','patient:', patient_key[variants_list.index(patient_variant_data)], \n",
    "                          'disorder:', disorder_list[patient_variant_data.index(variant_sublist)], 'variant:',variant)\n",
    "                if (re.search(alt_condition, variant_comp_list[3], re.I)) ==None:\n",
    "                    print(\"Alt-failure\", patient_key[variants_list.index(patient_variant_data)], \n",
    "                          'disorder:', disorder_list[patient_variant_data.index(variant_sublist)], 'variant:',variant)\n",
    "            elif re.search(simp_hgvs_format,variant, re.I):\n",
    "                simp_HGVS_sequence = re.split(r'[\\W]+', variant,flags = re.I)\n",
    "                print ('HGVS Simp', patient_key[variants_list.index(patient_variant_data)], simp_HGVS_sequence[0])\n",
    "                if simp_HGVS_sequence[0][:3]!=\"chr\" or int(simp_HGVS_sequence[0][3:]) >22:\n",
    "                    print('Simple HGVS format dictates that chr')\n",
    "                if (re.search(r'[gcat-]+',simp_HGVS_sequence[2], re.I) == None):\n",
    "                    print('End point must be CATG')\n",
    "                if (re.search(r'[gcat-]+',simp_HGVS_sequence[1], re.I) == None):\n",
    "                    print('Missing CATG') \n",
    "                \n",
    "            elif re.search(not_app_format, variant, re.I):\n",
    "                print (\"Not App\", patient_key[variants_list.index(patient_variant_data)])\n",
    "            elif variant ==\"*\":\n",
    "                print('Boom', patient_key[variants_list.index(patient_variant_data)])\n",
    "            elif variant !='*': \n",
    "                print ('Error total, not in acceptable format', patient_key[variants_list.index(patient_variant_data)], variant)"
   ]
  },
  {
   "cell_type": "code",
   "execution_count": null,
   "metadata": {
    "collapsed": true
   },
   "outputs": [],
   "source": []
  },
  {
   "cell_type": "code",
   "execution_count": null,
   "metadata": {
    "collapsed": true
   },
   "outputs": [],
   "source": []
  }
 ],
 "metadata": {
  "kernelspec": {
   "display_name": "Python 3",
   "language": "python",
   "name": "python3"
  },
  "language_info": {
   "codemirror_mode": {
    "name": "ipython",
    "version": 3
   },
   "file_extension": ".py",
   "mimetype": "text/x-python",
   "name": "python",
   "nbconvert_exporter": "python",
   "pygments_lexer": "ipython3",
   "version": "3.6.0"
  }
 },
 "nbformat": 4,
 "nbformat_minor": 2
}
