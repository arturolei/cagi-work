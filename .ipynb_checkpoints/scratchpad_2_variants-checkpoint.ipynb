{
 "cells": [
  {
   "cell_type": "code",
   "execution_count": 108,
   "metadata": {
    "collapsed": true
   },
   "outputs": [],
   "source": [
    "import re\n",
    "gene_list2 = [{'patient': 'Bob' ,'gene1':'1', 'time till death1':'5' , 'variants1': 'zz:oops:gcta:- 18:3232232:t-a-t:g 18:3342:t-a-t:c', \n",
    "              'gene2':'2', 'time till death2':'7','variants2': '22:394343:gcta:- 18:3232232:t-g-t:-- 18:334342:t-a-t:c', 'comment':'blah'}, \n",
    "             {'patient': 'Steve' ,'gene1':'4','time till death1':'3' ,'variants1': 'xy:s:zzz:- 18:12:***:. 18:32:t-a-t:.', \n",
    "              'gene2':'3', 'time till death2':'9', 'variants2': '22:294343:gcta:- 25:explosion:t-a-t:23 12:334342:t-a-t:a', 'comment':'goat'}]"
   ]
  },
  {
   "cell_type": "code",
   "execution_count": 109,
   "metadata": {
    "collapsed": false
   },
   "outputs": [],
   "source": [
    "variants_list =[]\n",
    "disorder_list = [str(item+1) for item in range(14)]\n",
    "patient_key= [patient['patient'] for patient in gene_list2]\n",
    "for person in gene_list2:\n",
    "    temp_list =[]\n",
    "    for person_key in person.keys():\n",
    "        if person_key[-2:-1] =='s':\n",
    "            temp_list.append(person[person_key])\n",
    "    variants_list.append(temp_list)\n",
    "    "
   ]
  },
  {
   "cell_type": "code",
   "execution_count": 110,
   "metadata": {
    "collapsed": false
   },
   "outputs": [
    {
     "name": "stdout",
     "output_type": "stream",
     "text": [
      "['zz:oops:gcta:- 18:3232232:t-a-t:g 18:3342:t-a-t:c', '22:394343:gcta:- 18:3232232:t-g-t:-- 18:334342:t-a-t:c']\n",
      "['xy:s:zzz:- 18:12:***:. 18:32:t-a-t:.', '22:294343:gcta:- 25:explosion:t-a-t:23 12:334342:t-a-t:a']\n"
     ]
    }
   ],
   "source": [
    "for item in variants_list:\n",
    "    print (item)"
   ]
  },
  {
   "cell_type": "code",
   "execution_count": 111,
   "metadata": {
    "collapsed": false
   },
   "outputs": [
    {
     "name": "stdout",
     "output_type": "stream",
     "text": [
      "['Bob', 'Steve']\n"
     ]
    }
   ],
   "source": [
    "print(patient_key)"
   ]
  },
  {
   "cell_type": "code",
   "execution_count": 112,
   "metadata": {
    "collapsed": false
   },
   "outputs": [
    {
     "name": "stdout",
     "output_type": "stream",
     "text": [
      "['zz', 'oops', 'gcta', '-'] Bob\n",
      "it fails for variant:  1 zz:oops:gcta:-\n",
      "Position failure for  patient: Bob disorder: 1 variant: zz:oops:gcta:-\n",
      "['18', '3232232', 't-a-t', 'g'] Bob\n",
      "['18', '3342', 't-a-t', 'c'] Bob\n",
      "['22', '394343', 'gcta', '-'] Bob\n",
      "['18', '3232232', 't-g-t', '--'] Bob\n",
      "['18', '334342', 't-a-t', 'c'] Bob\n",
      "['xy', 's', 'zzz', '-'] Steve\n",
      "Position failure for  patient: Steve disorder: 1 variant: xy:s:zzz:-\n",
      "Ref failure patient: Steve disorder: 1 variant: xy:s:zzz:-\n",
      "['18', '12', '***', '.'] Steve\n",
      "Ref failure patient: Steve disorder: 1 variant: 18:12:***:.\n",
      "['18', '32', 't-a-t', '.'] Steve\n",
      "['22', '294343', 'gcta', '-'] Steve\n",
      "['25', 'explosion', 't-a-t', '23'] Steve\n",
      "Position failure for  patient: Steve disorder: 2 variant: 25:explosion:t-a-t:23\n",
      "Alt-failure Steve disorder: 2 variant: 25:explosion:t-a-t:23\n",
      "['12', '334342', 't-a-t', 'a'] Steve\n"
     ]
    }
   ],
   "source": [
    "chrom_condition =r\"\\d+|[xy]\"\n",
    "pos_condition =r'\\d+'\n",
    "ref_condition =r'[gcat-]+' \n",
    "alt_condition = r'[gcat\\.-]+'\n",
    "\n",
    "for patient_variant_data in variants_list:\n",
    "    for variant_sublist in patient_variant_data:\n",
    "        sing_variant_sublist = variant_sublist.split(\" \")\n",
    "        '''print ('variant:', \n",
    "               disorder_list[patient_variant_data.index(variant_sublist)] ,',Variant List:',\n",
    "               sing_variant_sublist,\n",
    "               patient_key[variants_list.index(patient_variant_data)])'''\n",
    "        for variant in sing_variant_sublist:\n",
    "            variant_comp_list = variant.split(':')\n",
    "            print(variant_comp_list, patient_key[variants_list.index(patient_variant_data)] )\n",
    "            if (re.search(chrom_condition, variant_comp_list[0], re.I)) ==None:\n",
    "                print('it fails', 'for variant: ', disorder_list[patient_variant_data.index(variant_sublist)], variant)\n",
    "            if (re.search(pos_condition, variant_comp_list[1])) ==None:\n",
    "                print('Position failure for ', 'patient:', patient_key[variants_list.index(patient_variant_data)], \n",
    "                      'disorder:', disorder_list[patient_variant_data.index(variant_sublist)], 'variant:',variant)\n",
    "            if (re.search(ref_condition, variant_comp_list[2], re.I)) ==None:\n",
    "                print('Ref failure','patient:', patient_key[variants_list.index(patient_variant_data)], \n",
    "                      'disorder:', disorder_list[patient_variant_data.index(variant_sublist)], 'variant:',variant)\n",
    "            if (re.search(alt_condition, variant_comp_list[3], re.I)) ==None:\n",
    "                print(\"Alt-failure\", patient_key[variants_list.index(patient_variant_data)], \n",
    "                      'disorder:', disorder_list[patient_variant_data.index(variant_sublist)], 'variant:',variant)"
   ]
  },
  {
   "cell_type": "code",
   "execution_count": null,
   "metadata": {
    "collapsed": true
   },
   "outputs": [],
   "source": []
  },
  {
   "cell_type": "code",
   "execution_count": null,
   "metadata": {
    "collapsed": true
   },
   "outputs": [],
   "source": []
  }
 ],
 "metadata": {
  "kernelspec": {
   "display_name": "Python 3",
   "language": "python",
   "name": "python3"
  },
  "language_info": {
   "codemirror_mode": {
    "name": "ipython",
    "version": 3
   },
   "file_extension": ".py",
   "mimetype": "text/x-python",
   "name": "python",
   "nbconvert_exporter": "python",
   "pygments_lexer": "ipython3",
   "version": "3.6.0"
  }
 },
 "nbformat": 4,
 "nbformat_minor": 2
}
