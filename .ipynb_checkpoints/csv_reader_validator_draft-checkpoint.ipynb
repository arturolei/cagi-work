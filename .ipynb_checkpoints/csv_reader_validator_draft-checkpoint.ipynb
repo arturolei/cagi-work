{
 "cells": [
  {
   "cell_type": "code",
   "execution_count": 2,
   "metadata": {
    "collapsed": true
   },
   "outputs": [],
   "source": [
    "import csv\n"
   ]
  },
  {
   "cell_type": "code",
   "execution_count": 3,
   "metadata": {
    "collapsed": false
   },
   "outputs": [],
   "source": [
    "with open('5-Hopkins_clinical_panel_submission_template_testfile.csv', 'r') as my_csv_file:\n",
    "    dic_patients_list = [item for item in csv.DictReader(my_csv_file)]\n"
   ]
  },
  {
   "cell_type": "code",
   "execution_count": 4,
   "metadata": {
    "collapsed": false
   },
   "outputs": [],
   "source": [
    "true_dic_patients_list = [dict(item) for item in dic_patients_list]"
   ]
  },
  {
   "cell_type": "code",
   "execution_count": 5,
   "metadata": {
    "collapsed": false
   },
   "outputs": [],
   "source": [
    "#print(true_dic_patients_list)"
   ]
  },
  {
   "cell_type": "code",
   "execution_count": 6,
   "metadata": {
    "collapsed": false
   },
   "outputs": [
    {
     "name": "stdout",
     "output_type": "stream",
     "text": [
      "['P1', 'P2']\n",
      "[['0.5', '2', 'charararar', '5', '2', 'google', '0.2', '2', 'goolish', '0.3', '-2', 'dynamite', '0.2', '*', 'Nobel', '*', '2', '*', '*', '*', '*', '*', '*', '*', '*', '*', '*', '*', '*', '*', '*', '*', '*', '*', '*', '*', '*', '*', '*', '*', '*', '2', '*', '*']] \n",
      "\n",
      "[['0.5', '2', 'charararar', '5', '2', 'google', '0.2', '2', 'goolish', '0.3', '-2', 'dynamite', '0.2', '*', 'Nobel', '*', '2', '*', '*', '*', '*', '*', '*', '*', '*', '*', '*', '*', '*', '*', '*', '*', '*', '*', '*', '*', '*', '*', '*', '*', '*', '2', '*', '*'], ['*', '*', '*', '*', '*', '*', '*', '*', '*', '*', '*', '*', '*', '*', '*', '*', '*', '*', '*', '*', '*', '*', '*', '*', '*', '*', '*', '*', '*', '*', '*', '*', '*', '*', '*', '*', '*', '*', '*', '*', '*', '*', '*', '*']] \n",
      "\n",
      "{' 1-P': '*', '1-SD': '*', '1-V': '*', ' 2-P': '*', '2-SD': '*', '2-V': '*', ' 3-P': '*', '3-SD': '*', '3-V': '*', '4-P': '*', '4-SD': '*', '4-V': '*', '5-P': '*', '5-SD': '*', '5-V': '*', '6-P': '*', '6-SD': '*', '6-V': '*', '7-P': '*', '7-SD': '*', '7-V': '*', '8-P': '*', ' 8-SD': '*', ' 8-V': '*', ' 8-C': '*', ' 9-P': '*', ' 9-SD': '*', ' 9-V': '*', ' 10-P': '*', '10-SD': '*', '10-V': '*', '10-C': '*', '11-P': '*', '11-SD': '*', ' 11-V': '*', ' 12-P': '*', '12-SD': '*', ' 12-V': '*', '13-P': '*', '13-SD': '*', '13-V': '*', ' 14-P': '*', '14-SD': '*', ' 14-V': '*'}\n",
      "Validation failed with errors: \n",
      "\n",
      "Probability value error for row/patient: P1, cell coordinates:  2-P\n",
      "Probability value error for row/patient: P1, cell coordinates:  14-P\n",
      "Error: SD must be >=; Patient ID: P1 Disorder:4\n",
      "Error: You can't predict a SD without a corresponding prediction in the previous column; Patient ID: P1 Disorder:5\n",
      "Error: SD without P, Patient ID: P1 Disorder:6\n"
     ]
    }
   ],
   "source": [
    "#The rows are the patients (1-106, number based on CAGI-4). \n",
    "\n",
    "#A list of errors which we will display later if the file fails validation. \n",
    "error_list=[]\n",
    "\n",
    "#Test to see if there are empty values in the table.\n",
    "for item in true_dic_patients_list:\n",
    "    for patient_file in item.keys():\n",
    "        if item[patient_file] == '':\n",
    "            error_list.append('Empty value at row, column: '+ \n",
    "                              item['patient']+\" , \"+ patient_file + \"; Please leave '*' for empty value\")\n",
    "\n",
    "#Test probability values to make sure they are legitimate.\n",
    "for item in true_dic_patients_list:\n",
    "    for patient_file in item.keys():\n",
    "        if (patient_file[-1] =='P' and item[patient_file] != '*')and (float(item[patient_file]) > 1 or float(item[patient_file])<0):\n",
    "            error_list.append('Probability value error for row/patient: '+ item['patient'] +\n",
    "                  ', cell coordinates: '+ patient_file)      \n",
    "\n",
    "#Test to see if SD values are legtimate:\n",
    "#Merges and groups data in columns by disorder category.\n",
    "patient_num_val = []\n",
    "test_dict ={}\n",
    "syndrome_dict ={'0':'1', '3':'2', '6':'3', '9': '4', \n",
    "                '12':'5', '15':'6', '18':'7', \n",
    "                '21':'8', '24':'9','27': '10',\n",
    "               '30': '11', '33':'12', '36': '13','39':'14'}\n",
    "patient_list = [patient_row['patient'] for patient_row in true_dic_patients_list]\n",
    "print(patient_list)\n",
    "\n",
    "for patient_row in true_dic_patients_list:\n",
    "    patient_val_list =[]\n",
    "    for patient_val in patient_row.keys():\n",
    "        if (patient_val[0] != 'p' and patient_val !='C'):\n",
    "            test_dict[patient_val] = patient_row[patient_val]\n",
    "            patient_val_list.append(patient_row[patient_val])\n",
    "    patient_num_val.append(patient_val_list)\n",
    "\n",
    "    print(patient_num_val, '\\n')\n",
    "print(test_dict)\n",
    "\n",
    "for patient in patient_num_val:\n",
    "    for position in range(len(patient)-3):\n",
    "        if position % 3 == 0 and patient[position+1] ==\"*\" and patient[position]!='*':\n",
    "            error_list.append(\"Error: You can't predict a SD without a corresponding prediction in the previous column; \" + 'Patient ID: '+ \n",
    "                              patient_list[patient_num_val.index(patient)]+ \n",
    "                              ' Disorder:'+ syndrome_dict[str(position)])\n",
    "        elif position % 3 == 0 and patient[position] =='*' and patient[position+1] !=\"*\":\n",
    "            error_list.append('Error: SD without P, '+ \n",
    "                              'Patient ID: '+ \n",
    "                              patient_list[patient_num_val.index(patient)]+ \n",
    "                              ' Disorder:'+ \n",
    "                              syndrome_dict[str(position)])\n",
    "        elif position % 3 == 0 and patient[position] !='*' and int(patient[position+1]) < 0:\n",
    "            error_list.append('Error: SD must be >=0; '+ \n",
    "                              'Patient ID: '+ \n",
    "                              patient_list[patient_num_val.index(patient)]+ \n",
    "                              ' Disorder:'+ \n",
    "                              syndrome_dict[str(position)])\n",
    "         \n",
    "\n",
    "\n",
    "#Variant Testing\n",
    "#Merges and groups data in columns by disorder category.\n",
    "\n",
    "\n",
    "\n",
    "\n",
    "#Print errors\n",
    "if len (error_list) >0:\n",
    "    print('Validation failed with errors:', '\\n')\n",
    "    for item in error_list:\n",
    "        print(item)\n",
    "else:\n",
    "    print(\"Validation passed with no errors.\")\n",
    "    "
   ]
  },
  {
   "cell_type": "code",
   "execution_count": null,
   "metadata": {
    "collapsed": false
   },
   "outputs": [],
   "source": []
  },
  {
   "cell_type": "code",
   "execution_count": null,
   "metadata": {
    "collapsed": true
   },
   "outputs": [],
   "source": []
  },
  {
   "cell_type": "code",
   "execution_count": null,
   "metadata": {
    "collapsed": true
   },
   "outputs": [],
   "source": []
  }
 ],
 "metadata": {
  "kernelspec": {
   "display_name": "Python 3",
   "language": "python",
   "name": "python3"
  },
  "language_info": {
   "codemirror_mode": {
    "name": "ipython",
    "version": 3
   },
   "file_extension": ".py",
   "mimetype": "text/x-python",
   "name": "python",
   "nbconvert_exporter": "python",
   "pygments_lexer": "ipython3",
   "version": "3.6.0"
  }
 },
 "nbformat": 4,
 "nbformat_minor": 2
}
