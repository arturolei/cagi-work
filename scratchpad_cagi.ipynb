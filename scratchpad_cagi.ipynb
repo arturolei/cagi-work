{
 "cells": [
  {
   "cell_type": "code",
   "execution_count": 4,
   "metadata": {
    "collapsed": false
   },
   "outputs": [],
   "source": [
    "import re\n",
    "test_list = [{'player': 'one', '1-ranking':2, '1-rating':3, '1-victorycount':51, \n",
    "              '2-ranking':18, '2-rating':5, '2-victorycount':3, \n",
    "              'comment': '22:394343:gcta:- 18:3232232:t-a-t 18:334342:t-a-t'}, \n",
    "             {'player': 'two', '1-ranking':9, '1-rating':3, '1-victorycount':50, \n",
    "              '2-ranking':2, '2-rating':5, '2-victorycount':7, \n",
    "              'comment': '22:394343:gcta:- 18:3232232:t-a-t 18:334342:t-a-t'},\n",
    "             {'player': 'three', '1-ranking':9, '1-rating':3, '1-victorycount':50, \n",
    "              '2-ranking':2, '2-rating':5, '2-victorycount':7, \n",
    "              'comment': 'xy:394343:gcta:- 18:3232232:t-a-t 18:334342:t-a-t'}]\n",
    "              "
   ]
  },
  {
   "cell_type": "code",
   "execution_count": 5,
   "metadata": {
    "collapsed": false
   },
   "outputs": [
    {
     "name": "stdout",
     "output_type": "stream",
     "text": [
      "[{'player': 'one', '1-ranking': 2, '1-rating': 3, '1-victorycount': 51, '2-ranking': 18, '2-rating': 5, '2-victorycount': 3, 'comment': '22:394343:gcta:- 18:3232232:t-a-t 18:334342:t-a-t'}, {'player': 'two', '1-ranking': 9, '1-rating': 3, '1-victorycount': 50, '2-ranking': 2, '2-rating': 5, '2-victorycount': 7, 'comment': '22:394343:gcta:- 18:3232232:t-a-t 18:334342:t-a-t'}, {'player': 'three', '1-ranking': 9, '1-rating': 3, '1-victorycount': 50, '2-ranking': 2, '2-rating': 5, '2-victorycount': 7, 'comment': 'xy:394343:gcta:- 18:3232232:t-a-t 18:334342:t-a-t'}]\n"
     ]
    }
   ],
   "source": [
    "print(test_list)"
   ]
  },
  {
   "cell_type": "code",
   "execution_count": 70,
   "metadata": {
    "collapsed": false
   },
   "outputs": [
    {
     "name": "stdout",
     "output_type": "stream",
     "text": [
      "['one', 'two', 'three']\n",
      "{'1-ranking': 9, '1-rating': 3, '1-victorycount': 50, '2-ranking': 2, '2-rating': 5, '2-victorycount': 7}\n",
      "[[2, 3, 51, 18, 5, 3], [9, 3, 50, 2, 5, 7], [9, 3, 50, 2, 5, 7]]\n",
      "High Score for Player  one\n",
      "[['one', 2, 3, 51, 18, 5, 3, '22:394343:gcta:- 18:3232232:t-a-t 18:334342:t-a-t'], ['two', 9, 3, 50, 2, 5, 7, '22:394343:gcta:- 18:3232232:t-a-t 18:334342:t-a-t'], ['three', 9, 3, 50, 2, 5, 7, 'xy:394343:gcta:- 18:3232232:t-a-t 18:334342:t-a-t']]\n",
      "['22:394343:gcta:-', '18:3232232:t-a-t', '18:334342:t-a-t']\n",
      "pass one\n",
      "pass one\n",
      "pass one\n",
      "['22:394343:gcta:-', '18:3232232:t-a-t', '18:334342:t-a-t']\n",
      "pass two\n",
      "pass two\n",
      "pass two\n",
      "['xy:394343:gcta:-', '18:3232232:t-a-t', '18:334342:t-a-t']\n",
      "pass three\n",
      "pass three\n",
      "pass three\n"
     ]
    }
   ],
   "source": [
    "format_test_list =[{'player':item['player']} for item in test_list]\n",
    "\n",
    "'''\n",
    "number_sort = []\n",
    "for item in test_list:\n",
    "    for item_keys in item.keys():\n",
    "        if item_keys[0]!='p' and int(item_keys[0]) in range(3):\n",
    "            number_sort.append(item[item_keys])\n",
    "'''\n",
    "            \n",
    "testdic ={}\n",
    "massive_num_list =[]\n",
    "player_list = [player['player'] for player in test_list]\n",
    "print(player_list)\n",
    "\n",
    "game_dict= {'0':'one', '3':'two'}\n",
    "for player_row in test_list:\n",
    "    number_list =[]\n",
    "    for player_key in player_row.keys():\n",
    "        if player_key[0]!='p' and player_key[0]!='c' and int(player_key[0]) in range(3):\n",
    "            testdic[player_key] = player_row[player_key]\n",
    "            number_list.append(player_row[player_key])\n",
    "            #print(number_list)\n",
    "    massive_num_list.append(number_list)\n",
    "print(testdic)\n",
    "\n",
    "print(massive_num_list)\n",
    "\n",
    "for game_list in massive_num_list:\n",
    "    for item in range(len(game_list)):\n",
    "        if item % 3 == 0:\n",
    "            if game_list[item+2] > 50:\n",
    "                print('High Score for Player ', player_list[massive_num_list.index(game_list)])\n",
    "            #print('Player ID:',player_list[massive_num_list.index(game_list)],'Player score:',game_list[item+1], 'Game:', game_dict[str(item)])\n",
    "\n",
    "big_stats_list=[]\n",
    "for player_row in test_list:\n",
    "    stats_list =[]\n",
    "    for player_key in player_row.keys():\n",
    "        stats_list.append(player_row[player_key])\n",
    "    big_stats_list.append(stats_list)\n",
    "\n",
    "print(big_stats_list)\n",
    "chrom_str = r'(\\d+|[xy])'\n",
    "pos_str =r'(\\d+)'\n",
    "ref_str= r''\n",
    "alt_str=r''\n",
    "for stats in big_stats_list:\n",
    "    variants_examine = stats[-1].split(' ')\n",
    "    print(variants_examine)\n",
    "    for variant in variants_examine:\n",
    "        variant_breakdown = variant.split(':')\n",
    "        #print(variant_breakdown, 'var break')\n",
    "        if re.search(chrom_str, variant_breakdown[0]):\n",
    "            print('pass', player_list[big_stats_list.index(stats)])\n",
    "    \n",
    "        "
   ]
  },
  {
   "cell_type": "code",
   "execution_count": 63,
   "metadata": {
    "collapsed": true
   },
   "outputs": [],
   "source": [
    "chrom_str = r'(\\d+|[xy])'\n",
    "pos_str =r'(\\d+)'\n",
    "ref_str= r''\n",
    "alt_str=r''\n",
    "\n",
    "variant_indicator =r'([g])'\n",
    "\n",
    "gene_list2 = [{'patient': 'Bob' ,'gene':'1', 'time till death':'5' , 'variants': ' xy:394343:gcta:- 18:3232232:t-a-t 18:3342:t-a-t ', \n",
    "              'gene':'2', 'time till death':'7','variants': '22:394343:gcta:- 18:3232232:t-g-t 18:334342:t-a-t', 'comment':'blah'}, \n",
    "             {'patient': 'Steve' ,'gene':'4','time till death':'3' ,'variants': ' xy:394343:gcta:- 18:3232232:t-a-t 18:334342:t-a-t ', \n",
    "              'gene':'3', 'time till death':'9', 'variants': '22:294343:gcta:- 25:3232232:t-a-t 12:334342:t-a-t', 'comment':'goat'}]"
   ]
  },
  {
   "cell_type": "code",
   "execution_count": 68,
   "metadata": {
    "collapsed": false
   },
   "outputs": [],
   "source": [
    "disorder_list =[]\n",
    "for person in gene_list2:\n",
    "    temp_list =[]\n",
    "    for person_key in person.keys():\n",
    "        if person_key != 'comment':\n",
    "            temp_list.append(person[person_key])\n",
    "    disorder_list.append(temp_list)\n",
    "    "
   ]
  },
  {
   "cell_type": "code",
   "execution_count": 69,
   "metadata": {
    "collapsed": false
   },
   "outputs": [
    {
     "name": "stdout",
     "output_type": "stream",
     "text": [
      "[['Bob', '2', '7', '22:394343:gcta:- 18:3232232:t-g-t 18:334342:t-a-t'], ['Steve', '3', '9', '22:294343:gcta:- 25:3232232:t-a-t 12:334342:t-a-t']] 2\n"
     ]
    }
   ],
   "source": [
    "print(disorder_list, len(disorder_list))"
   ]
  },
  {
   "cell_type": "code",
   "execution_count": null,
   "metadata": {
    "collapsed": true
   },
   "outputs": [],
   "source": []
  }
 ],
 "metadata": {
  "kernelspec": {
   "display_name": "Python 3",
   "language": "python",
   "name": "python3"
  },
  "language_info": {
   "codemirror_mode": {
    "name": "ipython",
    "version": 3
   },
   "file_extension": ".py",
   "mimetype": "text/x-python",
   "name": "python",
   "nbconvert_exporter": "python",
   "pygments_lexer": "ipython3",
   "version": "3.6.0"
  }
 },
 "nbformat": 4,
 "nbformat_minor": 2
}
