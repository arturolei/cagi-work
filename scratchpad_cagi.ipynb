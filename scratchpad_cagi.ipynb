{
 "cells": [
  {
   "cell_type": "code",
   "execution_count": 70,
   "metadata": {
    "collapsed": true
   },
   "outputs": [],
   "source": [
    "test_list = [{'player': 'one', '1-ranking':2, '1-rating':3, '1-victorycount':51, '2-ranking':18, '2-rating':5, '2-victorycount':3, 'comment': 'Mediocre'}, \n",
    "             {'player': 'two', '1-ranking':9, '1-rating':3, '1-victorycount':50, '2-ranking':2, '2-rating':5, '2-victorycount':7, 'comment': 'Great'}]\n",
    "              "
   ]
  },
  {
   "cell_type": "code",
   "execution_count": 71,
   "metadata": {
    "collapsed": false
   },
   "outputs": [
    {
     "name": "stdout",
     "output_type": "stream",
     "text": [
      "[{'player': 'one', '1-ranking': 2, '1-rating': 3, '1-victorycount': 51, '2-ranking': 18, '2-rating': 5, '2-victorycount': 3, 'comment': 'Mediocre'}, {'player': 'two', '1-ranking': 9, '1-rating': 3, '1-victorycount': 50, '2-ranking': 2, '2-rating': 5, '2-victorycount': 7, 'comment': 'Great'}]\n"
     ]
    }
   ],
   "source": [
    "print(test_list)"
   ]
  },
  {
   "cell_type": "code",
   "execution_count": 75,
   "metadata": {
    "collapsed": false
   },
   "outputs": [
    {
     "name": "stdout",
     "output_type": "stream",
     "text": [
      "['one', 'two']\n",
      "{'1-ranking': 9, '1-rating': 3, '1-victorycount': 50, '2-ranking': 2, '2-rating': 5, '2-victorycount': 7}\n",
      "[[2, 3, 51, 18, 5, 3], [9, 3, 50, 2, 5, 7]]\n",
      "High Score for Player  one\n"
     ]
    }
   ],
   "source": [
    "format_test_list =[{'player':item['player']} for item in test_list]\n",
    "\n",
    "'''\n",
    "number_sort = []\n",
    "for item in test_list:\n",
    "    for item_keys in item.keys():\n",
    "        if item_keys[0]!='p' and int(item_keys[0]) in range(3):\n",
    "            number_sort.append(item[item_keys])\n",
    "'''\n",
    "            \n",
    "testdic ={}\n",
    "massive_num_list =[]\n",
    "player_list = [player['player'] for player in test_list]\n",
    "print(player_list)\n",
    "\n",
    "game_dict= {'0':'one', '3':'two'}\n",
    "for player_row in test_list:\n",
    "    number_list =[]\n",
    "    for player_key in player_row.keys():\n",
    "        if player_key[0]!='p' and player_key[0]!='c' and int(player_key[0]) in range(3):\n",
    "            testdic[player_key] = player_row[player_key]\n",
    "            number_list.append(player_row[player_key])\n",
    "            #print(number_list)\n",
    "    massive_num_list.append(number_list)\n",
    "print(testdic)\n",
    "\n",
    "print(massive_num_list)\n",
    "\n",
    "for game_list in massive_num_list:\n",
    "    for item in range(len(game_list)):\n",
    "        if item % 3 == 0:\n",
    "            if game_list[item+2] > 50:\n",
    "                print('High Score for Player ', player_list[massive_num_list.index(game_list)])\n",
    "            #print('Player ID:',player_list[massive_num_list.index(game_list)],'Player score:',game_list[item+1], 'Game:', game_dict[str(item)])\n",
    "            \n",
    "        \n",
    "\n"
   ]
  },
  {
   "cell_type": "code",
   "execution_count": null,
   "metadata": {
    "collapsed": true
   },
   "outputs": [],
   "source": []
  }
 ],
 "metadata": {
  "kernelspec": {
   "display_name": "Python 3",
   "language": "python",
   "name": "python3"
  },
  "language_info": {
   "codemirror_mode": {
    "name": "ipython",
    "version": 3
   },
   "file_extension": ".py",
   "mimetype": "text/x-python",
   "name": "python",
   "nbconvert_exporter": "python",
   "pygments_lexer": "ipython3",
   "version": "3.6.0"
  }
 },
 "nbformat": 4,
 "nbformat_minor": 2
}
