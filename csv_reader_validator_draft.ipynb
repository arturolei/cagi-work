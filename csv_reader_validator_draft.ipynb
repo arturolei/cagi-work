{
 "cells": [
  {
   "cell_type": "code",
   "execution_count": 18,
   "metadata": {
    "collapsed": true
   },
   "outputs": [],
   "source": [
    "import csv\n",
    "import re\n"
   ]
  },
  {
   "cell_type": "code",
   "execution_count": 19,
   "metadata": {
    "collapsed": false
   },
   "outputs": [],
   "source": [
    "with open('5-Hopkins_clinical_panel_submission_template_testfile.csv', 'r') as my_csv_file:\n",
    "    dic_patients_list = [item for item in csv.DictReader(my_csv_file)]\n"
   ]
  },
  {
   "cell_type": "code",
   "execution_count": 20,
   "metadata": {
    "collapsed": false
   },
   "outputs": [],
   "source": [
    "patients_dict_list = [dict(item) for item in dic_patients_list]"
   ]
  },
  {
   "cell_type": "code",
   "execution_count": 21,
   "metadata": {
    "collapsed": false
   },
   "outputs": [],
   "source": [
    "#print(true_dic_patients_list)"
   ]
  },
  {
   "cell_type": "code",
   "execution_count": 22,
   "metadata": {
    "collapsed": false
   },
   "outputs": [
    {
     "name": "stdout",
     "output_type": "stream",
     "text": [
      "['P1', 'P2']\n",
      "[['0.5', '2', 'charararar', '5', '2', 'google', '0.2', '2', 'goolish', '0.3', '-2', 'dynamite', '0.2', '*', 'Nobel', '*', '2', '*', '*', '*', '*', '*', '*', '*', '*', '*', '*', '*', '*', '*', '*', '*', '*', '*', '*', '*', '*', '*', '*', '*', '*', '2', '*', '*']] \n",
      "\n",
      "[['0.5', '2', 'charararar', '5', '2', 'google', '0.2', '2', 'goolish', '0.3', '-2', 'dynamite', '0.2', '*', 'Nobel', '*', '2', '*', '*', '*', '*', '*', '*', '*', '*', '*', '*', '*', '*', '*', '*', '*', '*', '*', '*', '*', '*', '*', '*', '*', '*', '2', '*', '*'], ['*', '*', '*', '*', '*', '*', '*', '*', '*', '*', '*', '*', '*', '*', '*', '*', '*', '*', '*', '*', '*', '*', '*', '*', '*', '*', '*', '*', '*', '*', '*', '*', '*', '*', '*', '*', '*', '*', '*', '*', '*', '*', '*', '*']] \n",
      "\n",
      "{' 1-P': '*', '1-SD': '*', '1-V': '*', ' 2-P': '*', '2-SD': '*', '2-V': '*', ' 3-P': '*', '3-SD': '*', '3-V': '*', '4-P': '*', '4-SD': '*', '4-V': '*', '5-P': '*', '5-SD': '*', '5-V': '*', '6-P': '*', '6-SD': '*', '6-V': '*', '7-P': '*', '7-SD': '*', '7-V': '*', '8-P': '*', ' 8-SD': '*', ' 8-V': '*', ' 8-C': '*', ' 9-P': '*', ' 9-SD': '*', ' 9-V': '*', ' 10-P': '*', '10-SD': '*', '10-V': '*', '10-C': '*', '11-P': '*', '11-SD': '*', ' 11-V': '*', ' 12-P': '*', '12-SD': '*', ' 12-V': '*', '13-P': '*', '13-SD': '*', '13-V': '*', ' 14-P': '*', '14-SD': '*', ' 14-V': '*'}\n",
      "Validation failed with errors: \n",
      "\n",
      "Probability value error for row/patient: P1, cell coordinates:  2-P\n",
      "Probability value error for row/patient: P1, cell coordinates:  14-P\n",
      "Error: SD must be >=0; Patient ID: P1 Disorder:4\n",
      "Error: You can't predict a SD without a corresponding prediction in the previous column; Patient ID: P1 Disorder:5\n",
      "Error: SD without P, Patient ID: P1 Disorder:6\n"
     ]
    }
   ],
   "source": [
    "#The rows are the patients (1-106, number based on CAGI-4). \n",
    "\n",
    "#A list of errors which we will display later if the file fails validation. \n",
    "error_list=[]\n",
    "\n",
    "#Test to see if there are empty values in the table.\n",
    "for patient_row in patients_dict_list:\n",
    "    for patient_key in patient_row.keys():\n",
    "        if patient_row[patient_key] == '':\n",
    "            error_list.append('Empty value at row, column: '+ \n",
    "                              item['patient']+\" , \"+ patient_file + \"; Please leave '*' for empty value\")\n",
    "\n",
    "#Test probability values to make sure they are legitimate.\n",
    "for item in patients_dict_list:\n",
    "    for patient_file in item.keys():\n",
    "        if (patient_file[-1] =='P' and item[patient_file] != '*')and (float(item[patient_file]) > 1 or float(item[patient_file])<0):\n",
    "            error_list.append('Probability value error for row/patient: '+ item['patient'] +\n",
    "                  ', cell coordinates: '+ patient_file)      \n",
    "\n",
    "#Test to see if SD values are legtimate:\n",
    "#Merges and groups data in columns by disorder category.\n",
    "patient_num_val = []\n",
    "test_dict ={}\n",
    "disorder_dict ={'0':'1', '3':'2', '6':'3', '9': '4', \n",
    "                '12':'5', '15':'6', '18':'7', \n",
    "                '21':'8', '24':'9','27': '10',\n",
    "               '30': '11', '33':'12', '36': '13','39':'14'}\n",
    "patient_list = [patient_row['patient'] for patient_row in patients_dict_list]\n",
    "print(patient_list)\n",
    "\n",
    "for patient_row in patients_dict_list:\n",
    "    patient_val_list =[]\n",
    "    for patient_val in patient_row.keys():\n",
    "        if (patient_val[0] != 'p' and patient_val !='C'):\n",
    "            test_dict[patient_val] = patient_row[patient_val]\n",
    "            patient_val_list.append(patient_row[patient_val])\n",
    "    patient_num_val.append(patient_val_list)\n",
    "\n",
    "    print(patient_num_val, '\\n')\n",
    "print(test_dict)\n",
    "\n",
    "for patient in patient_num_val:\n",
    "    for position in range(len(patient)-3):\n",
    "        if position % 3 == 0 and patient[position+1] ==\"*\" and patient[position]!='*':\n",
    "            error_list.append(\"Error: You can't predict a SD without a corresponding prediction in the previous column; \" + 'Patient ID: '+ \n",
    "                              patient_list[patient_num_val.index(patient)]+ \n",
    "                              ' Disorder:'+ disorder_dict[str(position)])\n",
    "        elif position % 3 == 0 and patient[position] =='*' and patient[position+1] !=\"*\":\n",
    "            error_list.append('Error: SD without P, '+ \n",
    "                              'Patient ID: '+ \n",
    "                              patient_list[patient_num_val.index(patient)]+ \n",
    "                              ' Disorder:'+ \n",
    "                              disorder_dict[str(position)])\n",
    "        elif position % 3 == 0 and patient[position] !='*' and int(patient[position+1]) < 0:\n",
    "            error_list.append('Error: SD must be >=0; '+ \n",
    "                              'Patient ID: '+ \n",
    "                              patient_list[patient_num_val.index(patient)]+ \n",
    "                              ' Disorder:'+ \n",
    "                              disorder_dict[str(position)])\n",
    "         \n",
    "\n",
    "\n",
    "#Variant Testing\n",
    "#Merges and groups data in columns by disorder category.\n",
    "\n",
    "chrom_condition =r\"\\d+|(xy)+\"\n",
    "chrom_condition_number =r\"\\d+\"\n",
    "pos_condition =r'\\d+'\n",
    "ref_condition =r'[gcat-]+' \n",
    "alt_condition = r'[gcat\\.-]+'\n",
    "\n",
    "cpra_format =r'^(\\s*\\S+:\\S+:\\S+:\\S+\\s*,?\\s*)+$'\n",
    "simp_hgvs_format = r'^(\\s*\\S+:\\S+\\s*>\\S+)+$'\n",
    "not_app_format= r'[na/]+'\n",
    "\n",
    "patient_sd_p_list=[]\n",
    "for patient_row in gene_list2:\n",
    "    temp_list=[]\n",
    "    for patient_data in patient_row.keys():\n",
    "        if patient_data[0] =='v' or patient_data[0]=='g':\n",
    "            temp_list.append(patient_row[patient_data])\n",
    "    patient_sd_p_list.append(temp_list)\n",
    "\n",
    "for patient_row in patient_sd_p_list:\n",
    "    for patient_data in range(len(patient_row)):\n",
    "        if patient_data % 2 ==0:\n",
    "            if patient_row[patient_data] =='*' and patient_row[patient_data+1] !='*':\n",
    "                print(\"Error\", patient_key[patient_sd_p_list.index(patient_row)],disorder_list[patient_data])\n",
    "        \n",
    "print(patient_sd_p_list)\n",
    "\n",
    "\n",
    "for patient_variant_data in variants_list:\n",
    "    for variant_sublist in patient_variant_data:\n",
    "        sing_variant_sublist = variant_sublist.split(\" \")\n",
    "        for variant in sing_variant_sublist:\n",
    "            if (re.search(cpra_format, variant)):\n",
    "                variant_comp_list = variant.split(':')\n",
    "                if (re.search(chrom_condition, variant_comp_list[0], re.I)) ==None:\n",
    "                    print('Chrom_failure', 'for variant: ', disorder_list[patient_variant_data.index(variant_sublist)], variant)\n",
    "                if (re.search(chrom_condition_number, variant_comp_list[0], re.I)) and (int(variant_comp_list[0]) >22 or int(variant_comp_list[0]) <0):\n",
    "                    print('Chrom_failure, not valid', 'for variant: ', disorder_list[patient_variant_data.index(variant_sublist)], variant)\n",
    "                if (re.search(pos_condition, variant_comp_list[1])) ==None:\n",
    "                    print('Position failure for ', 'patient:', patient_key[variants_list.index(patient_variant_data)], \n",
    "                          'disorder:', disorder_list[patient_variant_data.index(variant_sublist)], 'variant:',variant)\n",
    "                if (re.search(ref_condition, variant_comp_list[2], re.I)) ==None:\n",
    "                    print('Ref failure','patient:', patient_key[variants_list.index(patient_variant_data)], \n",
    "                          'disorder:', disorder_list[patient_variant_data.index(variant_sublist)], 'variant:',variant)\n",
    "                if (re.search(alt_condition, variant_comp_list[3], re.I)) ==None:\n",
    "                    print(\"Alt-failure\", patient_key[variants_list.index(patient_variant_data)], \n",
    "                          'disorder:', disorder_list[patient_variant_data.index(variant_sublist)], 'variant:',variant)\n",
    "            elif re.search(simp_hgvs_format,variant, re.I):\n",
    "                simp_HGVS_sequence = re.split(r'[\\W]+', variant,flags = re.I)\n",
    "                print ('HGVS Simp', patient_key[variants_list.index(patient_variant_data)], simp_HGVS_sequence[0])\n",
    "                if simp_HGVS_sequence[0][:3]!=\"chr\" or int(simp_HGVS_sequence[0][3:]) >22:\n",
    "                    print('Simple HGVS format dictates that chr')\n",
    "                if (re.search(r'[gcat-]+',simp_HGVS_sequence[2], re.I) == None):\n",
    "                    print('End point must be CATG')\n",
    "                if (re.search(r'[gcat-]+',simp_HGVS_sequence[1], re.I) == None):\n",
    "                    print('Missing CATG') \n",
    "                \n",
    "            elif re.search(not_app_format, variant, re.I):\n",
    "                print (\"Not App\", patient_key[variants_list.index(patient_variant_data)])\n",
    "            elif variant ==\"*\":\n",
    "                print('Boom', patient_key[variants_list.index(patient_variant_data)])\n",
    "            elif variant !='*': \n",
    "                print ('Error total, not in acceptable format', patient_key[variants_list.index(patient_variant_data)], variant)\n",
    "\n",
    "\n",
    "#Print errors\n",
    "if len (error_list) >0:\n",
    "    print('Validation failed with errors:', '\\n')\n",
    "    for item in error_list:\n",
    "        print(item)\n",
    "else:\n",
    "    print(\"Validation passed with no errors.\")\n",
    "    "
   ]
  },
  {
   "cell_type": "code",
   "execution_count": null,
   "metadata": {
    "collapsed": false
   },
   "outputs": [],
   "source": []
  },
  {
   "cell_type": "code",
   "execution_count": null,
   "metadata": {
    "collapsed": true
   },
   "outputs": [],
   "source": []
  },
  {
   "cell_type": "code",
   "execution_count": null,
   "metadata": {
    "collapsed": true
   },
   "outputs": [],
   "source": []
  }
 ],
 "metadata": {
  "kernelspec": {
   "display_name": "Python 3",
   "language": "python",
   "name": "python3"
  },
  "language_info": {
   "codemirror_mode": {
    "name": "ipython",
    "version": 3
   },
   "file_extension": ".py",
   "mimetype": "text/x-python",
   "name": "python",
   "nbconvert_exporter": "python",
   "pygments_lexer": "ipython3",
   "version": "3.6.0"
  }
 },
 "nbformat": 4,
 "nbformat_minor": 2
}
